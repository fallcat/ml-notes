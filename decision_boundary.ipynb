{
  "nbformat": 4,
  "nbformat_minor": 0,
  "metadata": {
    "colab": {
      "name": "decision boundary.ipynb",
      "provenance": [],
      "collapsed_sections": [],
      "authorship_tag": "ABX9TyPq0TfgpVbd8HqP26CKUnol",
      "include_colab_link": true
    },
    "kernelspec": {
      "name": "python3",
      "display_name": "Python 3"
    }
  },
  "cells": [
    {
      "cell_type": "markdown",
      "metadata": {
        "id": "view-in-github",
        "colab_type": "text"
      },
      "source": [
        "<a href=\"https://colab.research.google.com/github/fallcat/ml-notes/blob/master/decision_boundary.ipynb\" target=\"_parent\"><img src=\"https://colab.research.google.com/assets/colab-badge.svg\" alt=\"Open In Colab\"/></a>"
      ]
    },
    {
      "cell_type": "code",
      "metadata": {
        "id": "4nuiWNh6P4Sj",
        "colab_type": "code",
        "colab": {}
      },
      "source": [
        "import numpy as np\n",
        "\n",
        "def distanceFunc(metric_type, vec1, vec2):\n",
        "    \"\"\"\n",
        "    Computes the distance between two d-dim vectors\n",
        "    Args:\n",
        "        metric_type: String\n",
        "        vec1 (numpy vector): Vector\n",
        "        vec2 (numpy vector): Vector\n",
        "    Returns:\n",
        "        distance (float): distance between the two vectors\n",
        "    \"\"\"\n",
        "\n",
        "    diff = vec1 - vec2\n",
        "    if metric_type == \"L0\":\n",
        "        distance = np.sum(diff!=0)\n",
        "\n",
        "    if metric_type == \"L1\":\n",
        "        distance = np.sum(np.abs(diff))\n",
        "\n",
        "    if metric_type == \"L2\":\n",
        "        distance = np.sqrt(np.sum(diff**2))\n",
        "        \n",
        "    if metric_type == \"L-inf\":\n",
        "        distance = np.max(np.abs(diff))\n",
        "        \n",
        "    return distance\n"
      ],
      "execution_count": 19,
      "outputs": []
    },
    {
      "cell_type": "code",
      "metadata": {
        "id": "BTFvmEDKP68o",
        "colab_type": "code",
        "colab": {}
      },
      "source": [
        "def get_decision_boundaries(metric_type):\n",
        "    x = [[1,4], [5,1]]\n",
        "    o = [[4,4]]\n",
        "    x = np.array(x)\n",
        "    o = np.array(o)\n",
        "    a = np.linspace(0,6,13)\n",
        "    b = np.linspace(0,6,13)\n",
        "    arr = np.zeros((13,13))\n",
        "    for i, a_ in enumerate(a):\n",
        "        for j, b_ in enumerate(b):\n",
        "            temp = np.array([a_,b_])\n",
        "            x_min = 100\n",
        "            o_min = 100\n",
        "            for x_ in x:\n",
        "                x_tmp = distanceFunc(metric_type, temp, x_)\n",
        "                # print(\"x_tmp\", x_tmp)\n",
        "                if x_tmp < x_min:\n",
        "                    x_min = x_tmp\n",
        "            for o_ in o:\n",
        "                o_tmp = distanceFunc(metric_type, temp, o_)\n",
        "                # print(\"o_tmp\", o_tmp)\n",
        "                if o_tmp < o_min:\n",
        "                    o_min = o_tmp\n",
        "            if x_min > o_min:\n",
        "                arr[i, j] = 1\n",
        "            elif x_min < o_min:\n",
        "                arr[i, j] = -1\n",
        "    return arr"
      ],
      "execution_count": 20,
      "outputs": []
    },
    {
      "cell_type": "code",
      "metadata": {
        "id": "WqNwD3kxRqpL",
        "colab_type": "code",
        "colab": {
          "base_uri": "https://localhost:8080/",
          "height": 969
        },
        "outputId": "e482e99f-a093-42ff-b717-023d073d41ab"
      },
      "source": [
        "for metric in [\"L0\", \"L1\", \"L2\", \"L-inf\"]:\n",
        "    arr = get_decision_boundaries(metric)\n",
        "    print(metric)\n",
        "    print(arr.T[::-1])"
      ],
      "execution_count": 21,
      "outputs": [
        {
          "output_type": "stream",
          "text": [
            "L0\n",
            "[[ 0.  0. -1.  0.  0.  0.  0.  0.  1.  0. -1.  0.  0.]\n",
            " [ 0.  0. -1.  0.  0.  0.  0.  0.  1.  0. -1.  0.  0.]\n",
            " [ 0.  0. -1.  0.  0.  0.  0.  0.  1.  0. -1.  0.  0.]\n",
            " [ 0.  0. -1.  0.  0.  0.  0.  0.  1.  0. -1.  0.  0.]\n",
            " [ 0.  0. -1.  0.  0.  0.  0.  0.  1.  0.  0.  0.  0.]\n",
            " [ 0.  0. -1.  0.  0.  0.  0.  0.  1.  0. -1.  0.  0.]\n",
            " [ 0.  0. -1.  0.  0.  0.  0.  0.  1.  0. -1.  0.  0.]\n",
            " [ 0.  0. -1.  0.  0.  0.  0.  0.  1.  0. -1.  0.  0.]\n",
            " [ 0.  0. -1.  0.  0.  0.  0.  0.  1.  0. -1.  0.  0.]\n",
            " [ 0.  0. -1.  0.  0.  0.  0.  0.  1.  0. -1.  0.  0.]\n",
            " [-1. -1. -1. -1. -1. -1. -1. -1.  0. -1. -1. -1. -1.]\n",
            " [ 0.  0. -1.  0.  0.  0.  0.  0.  1.  0. -1.  0.  0.]\n",
            " [ 0.  0. -1.  0.  0.  0.  0.  0.  1.  0. -1.  0.  0.]]\n",
            "L1\n",
            "[[-1. -1. -1. -1. -1.  0.  1.  1.  1.  1.  1.  1.  1.]\n",
            " [-1. -1. -1. -1. -1.  0.  1.  1.  1.  1.  1.  1.  1.]\n",
            " [-1. -1. -1. -1. -1.  0.  1.  1.  1.  1.  1.  1.  1.]\n",
            " [-1. -1. -1. -1. -1.  0.  1.  1.  1.  1.  1.  1.  1.]\n",
            " [-1. -1. -1. -1. -1.  0.  1.  1.  1.  1.  1.  1.  1.]\n",
            " [-1. -1. -1. -1. -1.  0.  1.  1.  1.  1.  1.  1.  1.]\n",
            " [-1. -1. -1. -1. -1.  0.  1.  1.  1.  1.  0.  0.  0.]\n",
            " [-1. -1. -1. -1. -1.  0.  1.  1.  1.  0. -1. -1. -1.]\n",
            " [-1. -1. -1. -1. -1.  0.  0.  0.  0. -1. -1. -1. -1.]\n",
            " [-1. -1. -1. -1. -1. -1. -1. -1. -1. -1. -1. -1. -1.]\n",
            " [-1. -1. -1. -1. -1. -1. -1. -1. -1. -1. -1. -1. -1.]\n",
            " [-1. -1. -1. -1. -1. -1. -1. -1. -1. -1. -1. -1. -1.]\n",
            " [-1. -1. -1. -1. -1. -1. -1. -1. -1. -1. -1. -1. -1.]]\n",
            "L2\n",
            "[[-1. -1. -1. -1. -1.  0.  1.  1.  1.  1.  1.  1.  1.]\n",
            " [-1. -1. -1. -1. -1.  0.  1.  1.  1.  1.  1.  1.  1.]\n",
            " [-1. -1. -1. -1. -1.  0.  1.  1.  1.  1.  1.  1.  1.]\n",
            " [-1. -1. -1. -1. -1.  0.  1.  1.  1.  1.  1.  1.  1.]\n",
            " [-1. -1. -1. -1. -1.  0.  1.  1.  1.  1.  1.  1.  1.]\n",
            " [-1. -1. -1. -1. -1.  0.  1.  1.  1.  1.  1.  1.  1.]\n",
            " [-1. -1. -1. -1. -1.  0.  1.  1.  1.  1.  1.  1.  0.]\n",
            " [-1. -1. -1. -1. -1.  0.  1.  1.  1.  0. -1. -1. -1.]\n",
            " [-1. -1. -1. -1. -1.  0.  0. -1. -1. -1. -1. -1. -1.]\n",
            " [-1. -1. -1. -1. -1. -1. -1. -1. -1. -1. -1. -1. -1.]\n",
            " [-1. -1. -1. -1. -1. -1. -1. -1. -1. -1. -1. -1. -1.]\n",
            " [-1. -1. -1. -1. -1. -1. -1. -1. -1. -1. -1. -1. -1.]\n",
            " [-1. -1. -1. -1. -1. -1. -1. -1. -1. -1. -1. -1. -1.]]\n",
            "L-inf\n",
            "[[-1. -1. -1. -1.  0.  0.  0.  1.  1.  1.  1.  1.  1.]\n",
            " [-1. -1. -1. -1. -1.  0.  1.  1.  1.  1.  1.  1.  1.]\n",
            " [-1. -1. -1. -1. -1.  0.  1.  1.  1.  1.  1.  1.  1.]\n",
            " [-1. -1. -1. -1. -1.  0.  1.  1.  1.  1.  1.  1.  1.]\n",
            " [-1. -1. -1. -1. -1.  0.  1.  1.  1.  1.  1.  1.  1.]\n",
            " [-1. -1. -1. -1. -1.  0.  1.  1.  1.  1.  1.  1.  1.]\n",
            " [-1. -1. -1. -1. -1.  0.  1.  1.  1.  1.  1.  1.  0.]\n",
            " [-1. -1. -1. -1. -1.  0.  1.  0.  0.  0.  0.  0. -1.]\n",
            " [-1. -1. -1. -1.  0.  0.  0. -1. -1. -1. -1. -1. -1.]\n",
            " [-1. -1. -1.  0.  0.  0. -1. -1. -1. -1. -1. -1. -1.]\n",
            " [-1. -1.  0.  0.  0. -1. -1. -1. -1. -1. -1. -1. -1.]\n",
            " [-1.  0.  0.  0. -1. -1. -1. -1. -1. -1. -1. -1. -1.]\n",
            " [ 0.  0.  0. -1. -1. -1. -1. -1. -1. -1. -1. -1. -1.]]\n"
          ],
          "name": "stdout"
        }
      ]
    },
    {
      "cell_type": "code",
      "metadata": {
        "id": "2uKdGtTFSCzH",
        "colab_type": "code",
        "colab": {}
      },
      "source": [
        ""
      ],
      "execution_count": null,
      "outputs": []
    }
  ]
}